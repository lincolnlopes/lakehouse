{
 "cells": [
  {
   "cell_type": "code",
   "execution_count": null,
   "id": "80473839",
   "metadata": {},
   "outputs": [],
   "source": [
    "from deltalake import DeltaTable, write_deltalake\n",
    "from deltalake.exceptions import DeltaError\n",
    "import duckdb"
   ]
  },
  {
   "cell_type": "code",
   "execution_count": null,
   "id": "12237b18",
   "metadata": {},
   "outputs": [],
   "source": [
    "con = duckdb.connect()"
   ]
  },
  {
   "cell_type": "code",
   "execution_count": null,
   "id": "7a021ebb",
   "metadata": {},
   "outputs": [],
   "source": [
    "from dotenv import load_dotenv\n",
    "import os\n",
    "\n",
    "# Carregar o arquivo .env com verificação de erro\n",
    "try:\n",
    "    load_dotenv('C:\\\\Users\\\\Lincoln\\\\source\\\\repos\\\\lakehouse\\\\delta\\\\.env')\n",
    "except Exception as e:\n",
    "    print(f\"Erro ao carregar o arquivo .env: {str(e)}\")\n",
    "    raise\n",
    "\n",
    "# Definir todas as variáveis necessárias com verificação\n",
    "required_vars = [\n",
    "    \"AZURE_ACCOUNT_NAME\",\n",
    "    \"AZURE_CLIENT_ID\",\n",
    "    \"AZURE_ACCOUNT_KEY\",\n",
    "    \"AZURE_ACCOUNT_SECRET\"\n",
    "]\n",
    "\n",
    "# Verificar se todas as variáveis estão definidas\n",
    "missing_vars = []\n",
    "for var in required_vars:\n",
    "    value = os.getenv(var)\n",
    "    if value is None:\n",
    "        # Defina valores padrão para desenvolvimento/teste\n",
    "        if var == \"AZURE_STORAGE_CLIENT_ID\":\n",
    "            os.environ[var] = \"dummy-client-id\"\n",
    "        elif var == \"AZURE_STORAGE_ACCOUNT_SECRET\":\n",
    "            os.environ[var] = \"dummy-account-secret\"\n",
    "        else:\n",
    "            missing_vars.append(var)\n",
    "\n",
    "if missing_vars:\n",
    "    raise ValueError(\n",
    "        f\"As seguintes variáveis não foram encontradas no .env: {', '.join(missing_vars)}\"\n",
    "    )\n",
    "\n",
    "# Criar o dicionário storage_options apenas após verificar todas as variáveis\n",
    "storage_options = {\n",
    "    \"AZURE_STORAGE_ACCOUNT_NAME\": os.getenv(\"AZURE_STORAGE_ACCOUNT_NAME\"),\n",
    "    \"AZURE_STORAGE_ACCESS_KEY\": os.getenv(\"AZURE_STORAGE_ACCESS_KEY\"),\n",
    "    \"AZURE_STORAGE_CLIENT_ID\": os.getenv(\"AZURE_STORAGE_CLIENT_ID\"),\n",
    "    \"AZURE_STORAGE_CLIENT_SECRET\": os.getenv(\"AZURE_STORAGE_CLIENT_SECRET\")\n",
    "}\n",
    "\n",
    "print(\"Variáveis carregadas com sucesso:\", storage_options)"
   ]
  },
  {
   "cell_type": "code",
   "execution_count": null,
   "id": "1569af68",
   "metadata": {},
   "outputs": [],
   "source": [
    "def escreve_delta(data, path, mode):\n",
    "    uri = f'az://bronze/delta/delta-operacoes/{path}'\n",
    "    try:\n",
    "        write_deltalake(uri,\n",
    "                         data, \n",
    "                         mode=mode, \n",
    "                         storage_options=storage_options)\n",
    "        print(\"Dados escritos com sucesso no Delta Lake!\")\n",
    "    except DeltaError as e:\n",
    "        print(f\"Erro ao escrever dados no Delta Lake: {e}\")"
   ]
  },
  {
   "cell_type": "code",
   "execution_count": null,
   "id": "9339937a",
   "metadata": {},
   "outputs": [],
   "source": [
    "def ler_delta(path):\n",
    "    return DeltaTable(f'az://bronze/delta/delta-operacoes/{path}', storage_options=storage_options)"
   ]
  },
  {
   "cell_type": "code",
   "execution_count": null,
   "id": "414842be",
   "metadata": {},
   "outputs": [],
   "source": [
    "df = con.sql(\"SELECT * FROM 'C:\\\\Users\\\\Lincoln\\\\source\\\\repos\\\\lakehouse\\\\categories_test.csv'\").to_df()\n",
    "df"
   ]
  },
  {
   "cell_type": "code",
   "execution_count": null,
   "id": "5c47227f",
   "metadata": {},
   "outputs": [],
   "source": [
    "con.close()"
   ]
  },
  {
   "cell_type": "code",
   "execution_count": null,
   "id": "eee2eaac",
   "metadata": {},
   "outputs": [],
   "source": [
    "escreve_delta(df, 'categories', mode='overwrite')"
   ]
  },
  {
   "cell_type": "code",
   "execution_count": null,
   "id": "bd197106",
   "metadata": {},
   "outputs": [],
   "source": [
    "dados = ler_delta('categories')\n",
    "dados.to_pandas()"
   ]
  },
  {
   "cell_type": "code",
   "execution_count": 119,
   "id": "ff730d47",
   "metadata": {},
   "outputs": [
    {
     "name": "stdout",
     "output_type": "stream",
     "text": [
      "Versão da tabela Delta: 0\n"
     ]
    }
   ],
   "source": [
    "dt = ler_delta('categories')\n",
    "#dt.to_pandas()\n",
    "versao = dt.version()\n",
    "print(\"Versão da tabela Delta:\", versao)"
   ]
  },
  {
   "cell_type": "code",
   "execution_count": 121,
   "id": "49e89981",
   "metadata": {},
   "outputs": [
    {
     "ename": "DeltaError",
     "evalue": "Invalid table version: 0",
     "output_type": "error",
     "traceback": [
      "\u001b[31m---------------------------------------------------------------------------\u001b[39m",
      "\u001b[31mDeltaError\u001b[39m                                Traceback (most recent call last)",
      "\u001b[36mCell\u001b[39m\u001b[36m \u001b[39m\u001b[32mIn[121]\u001b[39m\u001b[32m, line 1\u001b[39m\n\u001b[32m----> \u001b[39m\u001b[32m1\u001b[39m \u001b[43mdt\u001b[49m\u001b[43m.\u001b[49m\u001b[43mdelete\u001b[49m\u001b[43m(\u001b[49m\u001b[33;43m\"\u001b[39;49m\u001b[33;43mcategory_id > 4\u001b[39;49m\u001b[33;43m\"\u001b[39;49m\u001b[43m)\u001b[49m\n",
      "\u001b[36mFile \u001b[39m\u001b[32mc:\\Users\\Lincoln\\source\\repos\\lakehouse\\.venv\\Lib\\site-packages\\deltalake\\table.py:1062\u001b[39m, in \u001b[36mDeltaTable.delete\u001b[39m\u001b[34m(self, predicate, writer_properties, post_commithook_properties, commit_properties)\u001b[39m\n\u001b[32m   1039\u001b[39m \u001b[38;5;28;01mdef\u001b[39;00m\u001b[38;5;250m \u001b[39m\u001b[34mdelete\u001b[39m(\n\u001b[32m   1040\u001b[39m     \u001b[38;5;28mself\u001b[39m,\n\u001b[32m   1041\u001b[39m     predicate: \u001b[38;5;28mstr\u001b[39m | \u001b[38;5;28;01mNone\u001b[39;00m = \u001b[38;5;28;01mNone\u001b[39;00m,\n\u001b[32m   (...)\u001b[39m\u001b[32m   1044\u001b[39m     commit_properties: CommitProperties | \u001b[38;5;28;01mNone\u001b[39;00m = \u001b[38;5;28;01mNone\u001b[39;00m,\n\u001b[32m   1045\u001b[39m ) -> \u001b[38;5;28mdict\u001b[39m[\u001b[38;5;28mstr\u001b[39m, Any]:\n\u001b[32m   1046\u001b[39m \u001b[38;5;250m    \u001b[39m\u001b[33;03m\"\"\"Delete records from a Delta Table that satisfy a predicate.\u001b[39;00m\n\u001b[32m   1047\u001b[39m \n\u001b[32m   1048\u001b[39m \u001b[33;03m    When a predicate is not provided then all records are deleted from the Delta\u001b[39;00m\n\u001b[32m   (...)\u001b[39m\u001b[32m   1060\u001b[39m \u001b[33;03m        the metrics from delete.\u001b[39;00m\n\u001b[32m   1061\u001b[39m \u001b[33;03m    \"\"\"\u001b[39;00m\n\u001b[32m-> \u001b[39m\u001b[32m1062\u001b[39m     metrics = \u001b[38;5;28;43mself\u001b[39;49m\u001b[43m.\u001b[49m\u001b[43m_table\u001b[49m\u001b[43m.\u001b[49m\u001b[43mdelete\u001b[49m\u001b[43m(\u001b[49m\n\u001b[32m   1063\u001b[39m \u001b[43m        \u001b[49m\u001b[43mpredicate\u001b[49m\u001b[43m,\u001b[49m\n\u001b[32m   1064\u001b[39m \u001b[43m        \u001b[49m\u001b[43mwriter_properties\u001b[49m\u001b[43m,\u001b[49m\n\u001b[32m   1065\u001b[39m \u001b[43m        \u001b[49m\u001b[43mcommit_properties\u001b[49m\u001b[43m,\u001b[49m\n\u001b[32m   1066\u001b[39m \u001b[43m        \u001b[49m\u001b[43mpost_commithook_properties\u001b[49m\u001b[43m,\u001b[49m\n\u001b[32m   1067\u001b[39m \u001b[43m    \u001b[49m\u001b[43m)\u001b[49m\n\u001b[32m   1068\u001b[39m     \u001b[38;5;28;01mreturn\u001b[39;00m json.loads(metrics)\n",
      "\u001b[31mDeltaError\u001b[39m: Invalid table version: 0"
     ]
    }
   ],
   "source": [
    "dt.delete(\"category_id > 4\")"
   ]
  }
 ],
 "metadata": {
  "kernelspec": {
   "display_name": ".venv",
   "language": "python",
   "name": "python3"
  },
  "language_info": {
   "codemirror_mode": {
    "name": "ipython",
    "version": 3
   },
   "file_extension": ".py",
   "mimetype": "text/x-python",
   "name": "python",
   "nbconvert_exporter": "python",
   "pygments_lexer": "ipython3",
   "version": "3.13.7"
  }
 },
 "nbformat": 4,
 "nbformat_minor": 5
}
